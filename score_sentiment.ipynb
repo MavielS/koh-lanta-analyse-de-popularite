{
 "cells": [
  {
   "cell_type": "code",
   "execution_count": 2,
   "id": "52cf1709-6e0a-4116-9201-6157b0a60d1f",
   "metadata": {},
   "outputs": [],
   "source": [
    "# Classic modules\n",
    "import numpy as np\n",
    "import pandas as pd\n",
    "\n",
    "# Modules for data-viz\n",
    "import matplotlib.pyplot as plt\n",
    "import seaborn as sns\n",
    "\n",
    "import plotly.io as pio\n",
    "import plotly.express as px\n",
    "from plotly.subplots import make_subplots\n",
    "import plotly.graph_objects as go\n",
    "import plotly.figure_factory as ff\n",
    "\n",
    "# Options\n",
    "pd.set_option(\"display.min_rows\", 10)\n",
    "pd.set_option(\"display.max_columns\", 30)\n",
    "pd.set_option(\"max_colwidth\", 1000)\n",
    "\n",
    "sns.set_style('darkgrid')\n",
    "plt.rc('figure',figsize=(17,13))\n",
    "\n",
    "# Preprocessing \n",
    "import re, string\n",
    "from emoji import demojize\n",
    "\n",
    "# Modélisation\n",
    "from sklearn.feature_extraction.text import CountVectorizer\n",
    "\n",
    "# Autres\n",
    "from IPython.display import display\n",
    "from PIL import Image\n",
    "\n",
    "\n",
    "# EDA\n",
    "from wordcloud import *\n",
    "\n",
    "#Serialization\n",
    "import pickle"
   ]
  },
  {
   "cell_type": "code",
   "execution_count": 3,
   "id": "0f60bd20-4aa9-4b82-ab6b-bc46c56641a7",
   "metadata": {},
   "outputs": [
    {
     "data": {
      "text/plain": [
       "device(type='cpu')"
      ]
     },
     "execution_count": 3,
     "metadata": {},
     "output_type": "execute_result"
    }
   ],
   "source": [
    "import torch\n",
    "\n",
    "device = torch.device(\"cuda\" if torch.cuda.is_available() else \"cpu\")\n",
    "device"
   ]
  },
  {
   "cell_type": "markdown",
   "id": "9797f741-e2cb-4ada-9389-98e81e3013ae",
   "metadata": {},
   "source": [
    "# Création des datasets d'entrainements"
   ]
  },
  {
   "cell_type": "code",
   "execution_count": 1,
   "id": "94de581f-336a-483a-a7be-a427d8488c42",
   "metadata": {},
   "outputs": [],
   "source": [
    "from sklearn.model_selection import train_test_split"
   ]
  },
  {
   "cell_type": "code",
   "execution_count": 29,
   "id": "3eb710f1-88bd-44f4-a17c-e88b7800322f",
   "metadata": {},
   "outputs": [
    {
     "data": {
      "text/plain": [
       "(385447, 14)"
      ]
     },
     "execution_count": 29,
     "metadata": {},
     "output_type": "execute_result"
    }
   ],
   "source": [
    "df = get_all_tweets(NOMS_CANDIDATS)\n",
    "df.shape"
   ]
  },
  {
   "cell_type": "code",
   "execution_count": 29,
   "id": "07849ea3-bad9-4345-8f2b-6958da61268b",
   "metadata": {},
   "outputs": [],
   "source": [
    "train, test = train_test_split(df, test_size=0.2, train_size=0.8, random_state=0)"
   ]
  },
  {
   "cell_type": "code",
   "execution_count": 31,
   "id": "98cae61f-c3ed-4cc4-82da-7bf53e870af1",
   "metadata": {},
   "outputs": [
    {
     "data": {
      "text/html": [
       "<div>\n",
       "<style scoped>\n",
       "    .dataframe tbody tr th:only-of-type {\n",
       "        vertical-align: middle;\n",
       "    }\n",
       "\n",
       "    .dataframe tbody tr th {\n",
       "        vertical-align: top;\n",
       "    }\n",
       "\n",
       "    .dataframe thead th {\n",
       "        text-align: right;\n",
       "    }\n",
       "</style>\n",
       "<table border=\"1\" class=\"dataframe\">\n",
       "  <thead>\n",
       "    <tr style=\"text-align: right;\">\n",
       "      <th></th>\n",
       "      <th>id</th>\n",
       "      <th>date</th>\n",
       "      <th>content</th>\n",
       "      <th>replyCount</th>\n",
       "      <th>retweetCount</th>\n",
       "      <th>likeCount</th>\n",
       "      <th>quoteCount</th>\n",
       "      <th>sourceLabel</th>\n",
       "      <th>hashtags</th>\n",
       "      <th>user_name</th>\n",
       "      <th>mentioned_users</th>\n",
       "      <th>isReply</th>\n",
       "      <th>isQuote</th>\n",
       "      <th>urlImg</th>\n",
       "    </tr>\n",
       "  </thead>\n",
       "  <tbody>\n",
       "    <tr>\n",
       "      <th>11</th>\n",
       "      <td>1429952416087150603</td>\n",
       "      <td>2021-08-24 01:43:17+02:00</td>\n",
       "      <td>quand tu sais que ce mardi c’est le retour de koh lanta avec les legendes: claude freddy teheiura koh lanta</td>\n",
       "      <td>0</td>\n",
       "      <td>2</td>\n",
       "      <td>11</td>\n",
       "      <td>0</td>\n",
       "      <td>Twitter for iPhone</td>\n",
       "      <td>[KohLanta, KohLantaLaLegende]</td>\n",
       "      <td>KARLMALONE86</td>\n",
       "      <td>NaN</td>\n",
       "      <td>False</td>\n",
       "      <td>False</td>\n",
       "      <td>NaN</td>\n",
       "    </tr>\n",
       "    <tr>\n",
       "      <th>168</th>\n",
       "      <td>1429920026245615619</td>\n",
       "      <td>2021-08-23 23:34:35+02:00</td>\n",
       "      <td>le retour de koh lanta demain..claude..freddy..clementine notre reine a tous....les larmes</td>\n",
       "      <td>0</td>\n",
       "      <td>0</td>\n",
       "      <td>0</td>\n",
       "      <td>0</td>\n",
       "      <td>C'est parti mon kiki</td>\n",
       "      <td>None</td>\n",
       "      <td>DanceKawine</td>\n",
       "      <td>NaN</td>\n",
       "      <td>False</td>\n",
       "      <td>False</td>\n",
       "      <td>NaN</td>\n",
       "    </tr>\n",
       "    <tr>\n",
       "      <th>213</th>\n",
       "      <td>1429914812864155653</td>\n",
       "      <td>2021-08-23 23:13:52+02:00</td>\n",
       "      <td>à 1:19 freddy dit que coumba est alle 2 fois à l'orientation. or elle n'est allee qu'une fois. donc elle devrait l'atteindre et perdre cette saison... koh lanta koh lanta</td>\n",
       "      <td>1</td>\n",
       "      <td>0</td>\n",
       "      <td>1</td>\n",
       "      <td>0</td>\n",
       "      <td>Twitter for Android</td>\n",
       "      <td>[KohLanta, KohLantaLaLegende]</td>\n",
       "      <td>_Neishin</td>\n",
       "      <td>NaN</td>\n",
       "      <td>False</td>\n",
       "      <td>False</td>\n",
       "      <td>NaN</td>\n",
       "    </tr>\n",
       "    <tr>\n",
       "      <th>230</th>\n",
       "      <td>1429913218806423554</td>\n",
       "      <td>2021-08-23 23:07:32+02:00</td>\n",
       "      <td>je l'adore et il est tres bon mais je pense pas qu'il puisse rivaliser avec freddy / sam / claude / teheiura etc   d'autant plus qu'il est plus tout jeune</td>\n",
       "      <td>0</td>\n",
       "      <td>0</td>\n",
       "      <td>1</td>\n",
       "      <td>0</td>\n",
       "      <td>Twitter Web App</td>\n",
       "      <td>None</td>\n",
       "      <td>Briomox_</td>\n",
       "      <td>[KohLanta_OOC]</td>\n",
       "      <td>True</td>\n",
       "      <td>False</td>\n",
       "      <td>NaN</td>\n",
       "    </tr>\n",
       "    <tr>\n",
       "      <th>636</th>\n",
       "      <td>1429867038705692673</td>\n",
       "      <td>2021-08-23 20:04:02+02:00</td>\n",
       "      <td>la ya du monde a garder… freddy tehe clemence jade coumba… 😂</td>\n",
       "      <td>1</td>\n",
       "      <td>0</td>\n",
       "      <td>0</td>\n",
       "      <td>0</td>\n",
       "      <td>Twitter for iPhone</td>\n",
       "      <td>None</td>\n",
       "      <td>Sruiiz9</td>\n",
       "      <td>[Princess_youss, TrezaHaz, KohLanta_OOC]</td>\n",
       "      <td>True</td>\n",
       "      <td>False</td>\n",
       "      <td>NaN</td>\n",
       "    </tr>\n",
       "  </tbody>\n",
       "</table>\n",
       "</div>"
      ],
      "text/plain": [
       "                      id                      date  \\\n",
       "11   1429952416087150603 2021-08-24 01:43:17+02:00   \n",
       "168  1429920026245615619 2021-08-23 23:34:35+02:00   \n",
       "213  1429914812864155653 2021-08-23 23:13:52+02:00   \n",
       "230  1429913218806423554 2021-08-23 23:07:32+02:00   \n",
       "636  1429867038705692673 2021-08-23 20:04:02+02:00   \n",
       "\n",
       "                                                                                                                                                                         content  \\\n",
       "11                                                                  quand tu sais que ce mardi c’est le retour de koh lanta avec les legendes: claude freddy teheiura koh lanta    \n",
       "168                                                                                   le retour de koh lanta demain..claude..freddy..clementine notre reine a tous....les larmes   \n",
       "213  à 1:19 freddy dit que coumba est alle 2 fois à l'orientation. or elle n'est allee qu'une fois. donc elle devrait l'atteindre et perdre cette saison... koh lanta koh lanta    \n",
       "230                   je l'adore et il est tres bon mais je pense pas qu'il puisse rivaliser avec freddy / sam / claude / teheiura etc   d'autant plus qu'il est plus tout jeune   \n",
       "636                                                                                                                 la ya du monde a garder… freddy tehe clemence jade coumba… 😂   \n",
       "\n",
       "     replyCount  retweetCount  likeCount  quoteCount           sourceLabel  \\\n",
       "11            0             2         11           0    Twitter for iPhone   \n",
       "168           0             0          0           0  C'est parti mon kiki   \n",
       "213           1             0          1           0   Twitter for Android   \n",
       "230           0             0          1           0       Twitter Web App   \n",
       "636           1             0          0           0    Twitter for iPhone   \n",
       "\n",
       "                          hashtags     user_name  \\\n",
       "11   [KohLanta, KohLantaLaLegende]  KARLMALONE86   \n",
       "168                           None   DanceKawine   \n",
       "213  [KohLanta, KohLantaLaLegende]      _Neishin   \n",
       "230                           None      Briomox_   \n",
       "636                           None       Sruiiz9   \n",
       "\n",
       "                              mentioned_users  isReply  isQuote urlImg  \n",
       "11                                        NaN    False    False    NaN  \n",
       "168                                       NaN    False    False    NaN  \n",
       "213                                       NaN    False    False    NaN  \n",
       "230                            [KohLanta_OOC]     True    False    NaN  \n",
       "636  [Princess_youss, TrezaHaz, KohLanta_OOC]     True    False    NaN  "
      ]
     },
     "execution_count": 31,
     "metadata": {},
     "output_type": "execute_result"
    }
   ],
   "source": [
    "df.head()"
   ]
  },
  {
   "cell_type": "code",
   "execution_count": 34,
   "id": "09ffbda4-5174-48e7-8aad-96785e5e67be",
   "metadata": {},
   "outputs": [],
   "source": [
    "train.content.to_excel('train.xlsx')"
   ]
  },
  {
   "cell_type": "code",
   "execution_count": 35,
   "id": "4afabaa8-8bdb-40b8-b74d-688c1a509a4a",
   "metadata": {},
   "outputs": [],
   "source": [
    "test.content.to_excel('test.xlsx')"
   ]
  },
  {
   "cell_type": "code",
   "execution_count": 6,
   "id": "ff1a25bc-c0ae-4e09-96fb-703f8965fd50",
   "metadata": {
    "jupyter": {
     "source_hidden": true
    },
    "tags": []
   },
   "outputs": [],
   "source": [
    "from sklearn.metrics import accuracy_score, precision_score, recall_score, f1_score, roc_auc_score, confusion_matrix, plot_confusion_matrix, ConfusionMatrixDisplay\n",
    "\n",
    "def make_confusion_matrix(cf,\n",
    "                          group_names=None,\n",
    "                          categories='auto',\n",
    "                          count=True,\n",
    "                          percent=True,\n",
    "                          cbar=True,\n",
    "                          xyticks=True,\n",
    "                          xyplotlabels=True,\n",
    "                          sum_stats=True,\n",
    "                          figsize=None,\n",
    "                          cmap='Blues',\n",
    "                          title=None):\n",
    "    '''\n",
    "    This function will make a pretty plot of an sklearn Confusion Matrix cm using a Seaborn heatmap visualization.\n",
    "    Arguments\n",
    "    ---------\n",
    "    cf:            confusion matrix to be passed in\n",
    "    group_names:   List of strings that represent the labels row by row to be shown in each square.\n",
    "    categories:    List of strings containing the categories to be displayed on the x,y axis. Default is 'auto'\n",
    "    count:         If True, show the raw number in the confusion matrix. Default is True.\n",
    "    normalize:     If True, show the proportions for each category. Default is True.\n",
    "    cbar:          If True, show the color bar. The cbar values are based off the values in the confusion matrix.\n",
    "                   Default is True.\n",
    "    xyticks:       If True, show x and y ticks. Default is True.\n",
    "    xyplotlabels:  If True, show 'True Label' and 'Predicted Label' on the figure. Default is True.\n",
    "    sum_stats:     If True, display summary statistics below the figure. Default is True.\n",
    "    figsize:       Tuple representing the figure size. Default will be the matplotlib rcParams value.\n",
    "    cmap:          Colormap of the values displayed from matplotlib.pyplot.cm. Default is 'Blues'\n",
    "                   See http://matplotlib.org/examples/color/colormaps_reference.html\n",
    "                   \n",
    "    title:         Title for the heatmap. Default is None.\n",
    "    '''\n",
    "\n",
    "\n",
    "    # CODE TO GENERATE TEXT INSIDE EACH SQUARE\n",
    "    blanks = ['' for i in range(cf.size)]\n",
    "\n",
    "    if group_names and len(group_names)==cf.size:\n",
    "        group_labels = [\"{}\\n\".format(value) for value in group_names]\n",
    "    else:\n",
    "        group_labels = blanks\n",
    "\n",
    "    if count:\n",
    "        group_counts = [\"{0:0.0f}\\n\".format(value) for value in cf.flatten()]\n",
    "    else:\n",
    "        group_counts = blanks\n",
    "\n",
    "    if percent:\n",
    "        group_percentages = [\"{0:.2%}\".format(value) for value in cf.flatten()/np.sum(cf)]\n",
    "    else:\n",
    "        group_percentages = blanks\n",
    "\n",
    "    box_labels = [f\"{v1}{v2}{v3}\".strip() for v1, v2, v3 in zip(group_labels,group_counts,group_percentages)]\n",
    "    box_labels = np.asarray(box_labels).reshape(cf.shape[0],cf.shape[1])\n",
    "\n",
    "\n",
    "    # CODE TO GENERATE SUMMARY STATISTICS & TEXT FOR SUMMARY STATS\n",
    "    if sum_stats:\n",
    "        #Accuracy is sum of diagonal divided by total observations\n",
    "        accuracy  = np.trace(cf) / float(np.sum(cf))\n",
    "\n",
    "        #if it is a binary confusion matrix, show some more stats\n",
    "        if len(cf)==2:\n",
    "            #Metrics for Binary Confusion Matrices\n",
    "            precision = cf[1,1] / sum(cf[:,1])\n",
    "            recall    = cf[1,1] / sum(cf[1,:])\n",
    "            f1_score  = 2*precision*recall / (precision + recall)\n",
    "            stats_text = \"\\n\\nAccuracy={:0.3f}\\nPrecision={:0.3f}\\nRecall={:0.3f}\\nF1 Score={:0.3f}\".format(\n",
    "                accuracy,precision,recall,f1_score)\n",
    "        else:\n",
    "            stats_text = \"\\n\\nAccuracy={:0.3f}\".format(accuracy)\n",
    "    else:\n",
    "        stats_text = \"\"\n",
    "\n",
    "\n",
    "    # SET FIGURE PARAMETERS ACCORDING TO OTHER ARGUMENTS\n",
    "    if figsize==None:\n",
    "        #Get default figure size if not set\n",
    "        figsize = plt.rcParams.get('figure.figsize')\n",
    "\n",
    "    if xyticks==False:\n",
    "        #Do not show categories if xyticks is False\n",
    "        categories=False\n",
    "\n",
    "\n",
    "    # MAKE THE HEATMAP VISUALIZATION\n",
    "    plt.figure(figsize=figsize)\n",
    "    sns.heatmap(cf,annot=box_labels,fmt=\"\",cmap=cmap,cbar=cbar,xticklabels=categories,yticklabels=categories)\n",
    "\n",
    "    if xyplotlabels:\n",
    "        plt.ylabel('True label')\n",
    "        plt.xlabel('Predicted label' + stats_text)\n",
    "    else:\n",
    "        plt.xlabel(stats_text)\n",
    "    \n",
    "    if title:\n",
    "        plt.title(title)\n",
    "\n",
    "def classif_score(y_true, y_pred, display_cm = True):\n",
    "    \n",
    "    if display_cm:\n",
    "        cm = confusion_matrix(y_true, y_pred)\n",
    "        make_confusion_matrix(cm, sum_stats=False, cbar=False, figsize=(4,4), title='Confusion Matrix')\n",
    "\n",
    "    data = {'Accuracy': round(accuracy_score(y_true, y_pred), 3),\n",
    "          'Precision': round(precision_score(y_true, y_pred), 3),\n",
    "          'Recall': round(recall_score(y_true, y_pred), 3),\n",
    "          'F1-Score': round(f1_score(y_true, y_pred), 3),          \n",
    "        }\n",
    "    return data"
   ]
  },
  {
   "cell_type": "markdown",
   "id": "43db2222-3b3b-444b-89a9-b2517e964551",
   "metadata": {},
   "source": [
    "# Analyse générale du sentiment des téléspectateurs pour une émission donnée"
   ]
  },
  {
   "cell_type": "markdown",
   "id": "9fa893fe-dfb7-4ce6-86b5-a50564f4a80e",
   "metadata": {},
   "source": [
    "A faire:\n",
    "- Avis général de l'émission (utiliser flauBERT)"
   ]
  },
  {
   "cell_type": "markdown",
   "id": "be6175db-a489-4eea-828b-b8fddfd9f581",
   "metadata": {},
   "source": [
    "## Récupération des données"
   ]
  },
  {
   "cell_type": "code",
   "execution_count": 6,
   "id": "b0273d06-9ef5-40b3-9474-f9d28d7c0f46",
   "metadata": {},
   "outputs": [],
   "source": [
    "path_directory = './data_p/'"
   ]
  },
  {
   "cell_type": "code",
   "execution_count": 7,
   "id": "6a48f403-f791-4cea-bf9b-45475c60b7f7",
   "metadata": {},
   "outputs": [
    {
     "name": "stdout",
     "output_type": "stream",
     "text": [
      "(101, 2)\n",
      "(199, 2)\n"
     ]
    }
   ],
   "source": [
    "test_df = pd.read_excel(path_directory + 'test_to_annotate.xlsx', index_col=0)\n",
    "test_df.dropna(inplace=True)\n",
    "print(test_df.shape)\n",
    "\n",
    "train_df = pd.read_excel(path_directory + 'train_to_annotate.xlsx', index_col=0)\n",
    "train_df.dropna(inplace=True)\n",
    "print(train_df.shape)"
   ]
  },
  {
   "cell_type": "code",
   "execution_count": 8,
   "id": "df1df1ec-e1ad-4c32-8600-9ae1848ea6f6",
   "metadata": {},
   "outputs": [
    {
     "name": "stdout",
     "output_type": "stream",
     "text": [
      "(98182, 14)\n"
     ]
    },
    {
     "data": {
      "text/html": [
       "<div>\n",
       "<style scoped>\n",
       "    .dataframe tbody tr th:only-of-type {\n",
       "        vertical-align: middle;\n",
       "    }\n",
       "\n",
       "    .dataframe tbody tr th {\n",
       "        vertical-align: top;\n",
       "    }\n",
       "\n",
       "    .dataframe thead th {\n",
       "        text-align: right;\n",
       "    }\n",
       "</style>\n",
       "<table border=\"1\" class=\"dataframe\">\n",
       "  <thead>\n",
       "    <tr style=\"text-align: right;\">\n",
       "      <th></th>\n",
       "      <th>id</th>\n",
       "      <th>date</th>\n",
       "      <th>content</th>\n",
       "      <th>replyCount</th>\n",
       "      <th>retweetCount</th>\n",
       "      <th>likeCount</th>\n",
       "      <th>quoteCount</th>\n",
       "      <th>sourceLabel</th>\n",
       "      <th>hashtags</th>\n",
       "      <th>user_name</th>\n",
       "      <th>mentioned_users</th>\n",
       "      <th>isReply</th>\n",
       "      <th>isQuote</th>\n",
       "      <th>urlImg</th>\n",
       "    </tr>\n",
       "  </thead>\n",
       "  <tbody>\n",
       "    <tr>\n",
       "      <th>0</th>\n",
       "      <td>1432493094902063107</td>\n",
       "      <td>2021-08-31 01:59:02+02:00</td>\n",
       "      <td>Dsl mais il y'a des candidats qui n'ont rien à faire dans ce Koh lanta</td>\n",
       "      <td>0</td>\n",
       "      <td>0</td>\n",
       "      <td>0</td>\n",
       "      <td>0</td>\n",
       "      <td>Twitter for Android</td>\n",
       "      <td>NaN</td>\n",
       "      <td>Amondaxx</td>\n",
       "      <td>NaN</td>\n",
       "      <td>False</td>\n",
       "      <td>False</td>\n",
       "      <td>NaN</td>\n",
       "    </tr>\n",
       "    <tr>\n",
       "      <th>1</th>\n",
       "      <td>1432492056065290240</td>\n",
       "      <td>2021-08-31 01:54:55+02:00</td>\n",
       "      <td>PUTAIN DÉGOUTÉ NAAAAN #KohLanta</td>\n",
       "      <td>0</td>\n",
       "      <td>0</td>\n",
       "      <td>0</td>\n",
       "      <td>0</td>\n",
       "      <td>Twitter for Android</td>\n",
       "      <td>['KohLanta']</td>\n",
       "      <td>AbilashHaon</td>\n",
       "      <td>NaN</td>\n",
       "      <td>False</td>\n",
       "      <td>False</td>\n",
       "      <td>NaN</td>\n",
       "    </tr>\n",
       "    <tr>\n",
       "      <th>2</th>\n",
       "      <td>1432490846348365826</td>\n",
       "      <td>2021-08-31 01:50:06+02:00</td>\n",
       "      <td>remember quand une fois j’ai tweetais sur koh lanta toute la soirée en étant persuadée que j’étais sur le bon # alors que c’était sur le # fort boyard</td>\n",
       "      <td>0</td>\n",
       "      <td>0</td>\n",
       "      <td>4</td>\n",
       "      <td>0</td>\n",
       "      <td>Twitter for iPhone</td>\n",
       "      <td>NaN</td>\n",
       "      <td>hemyz</td>\n",
       "      <td>NaN</td>\n",
       "      <td>False</td>\n",
       "      <td>False</td>\n",
       "      <td>NaN</td>\n",
       "    </tr>\n",
       "    <tr>\n",
       "      <th>3</th>\n",
       "      <td>1432488160685133825</td>\n",
       "      <td>2021-08-31 01:39:26+02:00</td>\n",
       "      <td>vas y demain dès que koh lanta finit je dodo 😭😭😭 marre des nuits ici</td>\n",
       "      <td>0</td>\n",
       "      <td>0</td>\n",
       "      <td>0</td>\n",
       "      <td>0</td>\n",
       "      <td>Twitter for Android</td>\n",
       "      <td>NaN</td>\n",
       "      <td>alekshark</td>\n",
       "      <td>NaN</td>\n",
       "      <td>False</td>\n",
       "      <td>False</td>\n",
       "      <td>NaN</td>\n",
       "    </tr>\n",
       "    <tr>\n",
       "      <th>4</th>\n",
       "      <td>1432487661428690946</td>\n",
       "      <td>2021-08-31 01:37:27+02:00</td>\n",
       "      <td>Par contre si c'est Karima qui part jsuis PAS D'ACCORD #KohLanta</td>\n",
       "      <td>0</td>\n",
       "      <td>0</td>\n",
       "      <td>0</td>\n",
       "      <td>0</td>\n",
       "      <td>Twitter for Android</td>\n",
       "      <td>['KohLanta']</td>\n",
       "      <td>AbilashHaon</td>\n",
       "      <td>NaN</td>\n",
       "      <td>False</td>\n",
       "      <td>False</td>\n",
       "      <td>NaN</td>\n",
       "    </tr>\n",
       "  </tbody>\n",
       "</table>\n",
       "</div>"
      ],
      "text/plain": [
       "                    id                       date  \\\n",
       "0  1432493094902063107  2021-08-31 01:59:02+02:00   \n",
       "1  1432492056065290240  2021-08-31 01:54:55+02:00   \n",
       "2  1432490846348365826  2021-08-31 01:50:06+02:00   \n",
       "3  1432488160685133825  2021-08-31 01:39:26+02:00   \n",
       "4  1432487661428690946  2021-08-31 01:37:27+02:00   \n",
       "\n",
       "                                                                                                                                                  content  \\\n",
       "0                                                                                  Dsl mais il y'a des candidats qui n'ont rien à faire dans ce Koh lanta   \n",
       "1                                                                                                                         PUTAIN DÉGOUTÉ NAAAAN #KohLanta   \n",
       "2  remember quand une fois j’ai tweetais sur koh lanta toute la soirée en étant persuadée que j’étais sur le bon # alors que c’était sur le # fort boyard   \n",
       "3                                                                                    vas y demain dès que koh lanta finit je dodo 😭😭😭 marre des nuits ici   \n",
       "4                                                                                        Par contre si c'est Karima qui part jsuis PAS D'ACCORD #KohLanta   \n",
       "\n",
       "   replyCount  retweetCount  likeCount  quoteCount          sourceLabel  \\\n",
       "0           0             0          0           0  Twitter for Android   \n",
       "1           0             0          0           0  Twitter for Android   \n",
       "2           0             0          4           0   Twitter for iPhone   \n",
       "3           0             0          0           0  Twitter for Android   \n",
       "4           0             0          0           0  Twitter for Android   \n",
       "\n",
       "       hashtags    user_name mentioned_users  isReply  isQuote urlImg  \n",
       "0           NaN     Amondaxx             NaN    False    False    NaN  \n",
       "1  ['KohLanta']  AbilashHaon             NaN    False    False    NaN  \n",
       "2           NaN        hemyz             NaN    False    False    NaN  \n",
       "3           NaN    alekshark             NaN    False    False    NaN  \n",
       "4  ['KohLanta']  AbilashHaon             NaN    False    False    NaN  "
      ]
     },
     "execution_count": 8,
     "metadata": {},
     "output_type": "execute_result"
    }
   ],
   "source": [
    "raw = pd.read_csv(path_directory + 'raw_em1.csv').drop('Unnamed: 0', axis='columns')\n",
    "print(raw.shape)\n",
    "raw.head()"
   ]
  },
  {
   "cell_type": "markdown",
   "id": "de570c8f-5149-4bc4-be05-af5d76a758a9",
   "metadata": {},
   "source": [
    "## Avis général de l'émissions"
   ]
  },
  {
   "cell_type": "code",
   "execution_count": 8,
   "id": "6c00fb6b-385e-4a42-adaa-3918c5df437c",
   "metadata": {},
   "outputs": [
    {
     "name": "stderr",
     "output_type": "stream",
     "text": [
      "All model checkpoint layers were used when initializing TFCamembertForSequenceClassification.\n",
      "\n",
      "All the layers of TFCamembertForSequenceClassification were initialized from the model checkpoint at tblard/tf-allocine.\n",
      "If your task is similar to the task the model of the checkpoint was trained on, you can already use TFCamembertForSequenceClassification for predictions without further training.\n"
     ]
    }
   ],
   "source": [
    "from transformers import AutoTokenizer, TFAutoModelForSequenceClassification\n",
    "from transformers import pipeline\n",
    "\n",
    "tokenizer = AutoTokenizer.from_pretrained(\"tblard/tf-allocine\")\n",
    "model = TFAutoModelForSequenceClassification.from_pretrained(\"tblard/tf-allocine\")\n",
    "\n",
    "nlp_sentiment = pipeline('sentiment-analysis', model=model, tokenizer=tokenizer)"
   ]
  },
  {
   "cell_type": "markdown",
   "id": "f7e70017-c58f-46ed-9e3f-9d73b5f6e67b",
   "metadata": {},
   "source": [
    "Je créé un test set en regroupant les annotation faites sur les tweets"
   ]
  },
  {
   "cell_type": "code",
   "execution_count": 18,
   "id": "3ffade6d-6d81-41df-987a-c48719a63a69",
   "metadata": {},
   "outputs": [],
   "source": [
    "test_tblard = pd.concat([train_df[train_df.label != 2], test_df[test_df.label != 2]]) # On retire les sentiments évalués comme neutres\n",
    "X_test = test_tblard.content\n",
    "y_test = test_tblard.label"
   ]
  },
  {
   "cell_type": "code",
   "execution_count": 21,
   "id": "077bbf24-8064-4781-9d2d-fa05ddaaaa64",
   "metadata": {},
   "outputs": [],
   "source": [
    "output = nlp_sentiment(X_test.tolist())"
   ]
  },
  {
   "cell_type": "code",
   "execution_count": 44,
   "id": "69f236dc-895f-4740-84f8-cf36e62f51c4",
   "metadata": {},
   "outputs": [],
   "source": [
    "y_pred = pd.Series(map(lambda x: x['label'], output))\n",
    "y_pred = y_pred.apply(lambda x: 0 if x =='NEGATIVE' else 1)"
   ]
  },
  {
   "cell_type": "code",
   "execution_count": 50,
   "id": "d70f1e9e-993b-489e-b517-a6ae8f80c592",
   "metadata": {},
   "outputs": [
    {
     "data": {
      "text/plain": [
       "{'Accuracy': 0.742, 'Precision': 0.788, 'Recall': 0.767, 'F1-Score': 0.777}"
      ]
     },
     "execution_count": 50,
     "metadata": {},
     "output_type": "execute_result"
    },
    {
     "data": {
      "image/png": "[encoded data removed]",
      "text/plain": [
       "<Figure size 288x288 with 1 Axes>"
      ]
     },
     "metadata": {},
     "output_type": "display_data"
    }
   ],
   "source": [
    "classif_score(y_test, y_pred)"
   ]
  },
  {
   "cell_type": "markdown",
   "id": "9f924f8b-b63f-4e43-b90a-a24f3ee4ccaa",
   "metadata": {},
   "source": [
    "## Avis sur un candidat donné"
   ]
  },
  {
   "cell_type": "markdown",
   "id": "f04d6129-8254-423f-8571-315324d52609",
   "metadata": {},
   "source": [
    "### NER (Détection des noms des candidats)"
   ]
  },
  {
   "cell_type": "code",
   "execution_count": null,
   "id": "662fd7a1-5d4d-4a2b-bd6f-4e336e24d325",
   "metadata": {},
   "outputs": [],
   "source": [
    "from transformers import AutoTokenizer, AutoModelForTokenClassification\n",
    "from transformers import pipeline\n",
    "\n",
    "tokenizer = AutoTokenizer.from_pretrained(\"Jean-Baptiste/camembert-ner\")\n",
    "model = AutoModelForTokenClassification.from_pretrained(\"Jean-Baptiste/camembert-ner\")\n",
    "\n",
    "nlp = pipeline('ner', model=model, tokenizer=tokenizer, aggregation_strategy=\"simple\")"
   ]
  },
  {
   "cell_type": "code",
   "execution_count": null,
   "id": "f923dafc-882b-4aa0-ab89-15ed3676723a",
   "metadata": {},
   "outputs": [],
   "source": [
    "tweet_sample = raw#.sample(20000)\n",
    "tweet_sample.content = tweet_sample.content.apply(nlp_pipeline)\n",
    "\n",
    "persons = []\n",
    "start = 0\n",
    "\n",
    "for stop in range(0, tweet_sample.shape[0], 512):\n",
    "    output = nlp(' '.join(tweet_sample.iloc[start:stop].content.values))\n",
    "    start = stop\n",
    "    for entity in output:\n",
    "    if entity['entity_group'] == 'PER':\n",
    "        persons.append(entity['word'])\n",
    "        \n",
    "with open(path_directory + 'persons_em1.pickle', 'wb') as f:\n",
    "    pickle.dump(persons, f)"
   ]
  },
  {
   "cell_type": "code",
   "execution_count": null,
   "id": "9dd710e7-3aba-4f32-a026-5f1f04b224b6",
   "metadata": {},
   "outputs": [],
   "source": [
    "vectorizer = CountVectorizer(min_df=5)\n",
    "X = vectorizer.fit_transform(persons)\n",
    "\n",
    "print(X.shape)"
   ]
  },
  {
   "cell_type": "code",
   "execution_count": null,
   "id": "49ba136c-ac40-4150-97fe-95b51e07a658",
   "metadata": {
    "tags": []
   },
   "outputs": [],
   "source": [
    "wordcloud = WordCloud(background_color=\"white\").generate(' '.join(persons))\n",
    "\n",
    "# Display the generated image:\n",
    "plt.imshow(wordcloud, interpolation='bilinear')\n",
    "plt.axis(\"off\")\n",
    "plt.show()"
   ]
  },
  {
   "cell_type": "markdown",
   "id": "5c6c38a3-4f5e-4e6c-ba1f-098eba8fce89",
   "metadata": {},
   "source": [
    "### Création de datasets par candidats"
   ]
  },
  {
   "cell_type": "code",
   "execution_count": 9,
   "id": "5d40117f-b731-4321-8835-610ee1e934a5",
   "metadata": {},
   "outputs": [
    {
     "name": "stdout",
     "output_type": "stream",
     "text": [
      "Wall time: 31.7 s\n"
     ]
    }
   ],
   "source": [
    "%%time\n",
    "tweet_sample = raw#.sample(20000)\n",
    "tweet_sample.content = tweet_sample.content.apply(nlp_pipeline)"
   ]
  },
  {
   "cell_type": "code",
   "execution_count": 44,
   "id": "957a13af-ae4d-4fe0-a13b-d6d4a0f6ba4e",
   "metadata": {},
   "outputs": [],
   "source": [
    "nom_candidats = ['Freddy', 'Teheuira', 'Patrick', 'Alexandra', 'Cindy', 'Claude', 'Karima', 'Jade', 'Maxime', \n",
    "                  'Laurent', 'Candice', 'Sam', 'Clementine', 'Ugo', 'Namadia', 'Christelle', 'Coumba', 'Loic', \n",
    "                  'Clemence', 'Phil', 'Alix', 'Denis']"
   ]
  },
  {
   "cell_type": "code",
   "execution_count": 45,
   "id": "1bb2cd49-2c8a-461e-b60f-43712fb7f1a6",
   "metadata": {},
   "outputs": [],
   "source": [
    "freddy_df = tweet_sample[tweet_sample.content.str.contains('freddy')]\n",
    "tehe_df = tweet_sample[tweet_sample.content.str.contains('tehe' or 'teheuira' or 'tehura' or 'tehei' or 'tehuira')]\n",
    "patrick_df = tweet_sample[tweet_sample.content.str.contains('patrick', 'pat')]\n",
    "alexandra_df = tweet_sample[tweet_sample.content.str.contains('alexandra')]\n",
    "cindy_df = tweet_sample[tweet_sample.content.str.contains('cindy')]\n",
    "claude_df = tweet_sample[tweet_sample.content.str.contains('claude')]\n",
    "karima_df = tweet_sample[tweet_sample.content.str.contains('karima')]\n",
    "jade_df = tweet_sample[tweet_sample.content.str.contains('jade')]\n",
    "maxime_df = tweet_sample[tweet_sample.content.str.contains('maxime')]\n",
    "laurent_df = tweet_sample[tweet_sample.content.str.contains('laurent')]\n",
    "candice_df = tweet_sample[tweet_sample.content.str.contains('candice')]\n",
    "sam_df = tweet_sample[tweet_sample.content.str.contains('sam')]\n",
    "clementine_df = tweet_sample[tweet_sample.content.str.contains('clementine')]\n",
    "ugo_df = tweet_sample[tweet_sample.content.str.contains('ugo')]\n",
    "namadia_df = tweet_sample[tweet_sample.content.str.contains('namadia')]\n",
    "christelle_df = tweet_sample[tweet_sample.content.str.contains('christelle')]\n",
    "coumba_df = tweet_sample[tweet_sample.content.str.contains('coumba')]\n",
    "loic_df = tweet_sample[tweet_sample.content.str.contains('loic')]\n",
    "clemence_df = tweet_sample[tweet_sample.content.str.contains('clemence')]\n",
    "phil_df = tweet_sample[tweet_sample.content.str.contains('phil')]\n",
    "alix_df = tweet_sample[tweet_sample.content.str.contains('alix')]\n",
    "denis_df = tweet_sample[tweet_sample.content.str.contains('denis')]"
   ]
  },
  {
   "cell_type": "code",
   "execution_count": 46,
   "id": "b42a8dd0-069c-4447-9ad0-fc8a2b3a7efc",
   "metadata": {},
   "outputs": [],
   "source": [
    "path_to_save = './data_jugement/em1/'\n",
    "\n",
    "freddy_df.to_excel(path_to_save + 'freddy.xlsx')\n",
    "tehe_df.to_excel(path_to_save + 'teheuira.xlsx')\n",
    "patrick_df.to_excel(path_to_save + 'patrick.xlsx')\n",
    "alexandra_df.to_excel(path_to_save + 'alexandra.xlsx')\n",
    "cindy_df.to_excel(path_to_save + 'cindy.xlsx')\n",
    "claude_df.to_excel(path_to_save + 'claude.xlsx')\n",
    "karima_df.to_excel(path_to_save + 'karima.xlsx')\n",
    "jade_df.to_excel(path_to_save + 'jade.xlsx')\n",
    "maxime_df.to_excel(path_to_save + 'maxime.xlsx')\n",
    "laurent_df.to_excel(path_to_save + 'laurent.xlsx')\n",
    "candice_df.to_excel(path_to_save + 'candice.xlsx')\n",
    "sam_df.to_excel(path_to_save + 'sam.xlsx')\n",
    "clementine_df.to_excel(path_to_save + 'clementine.xlsx')\n",
    "ugo_df.to_excel(path_to_save + 'ugo.xlsx')\n",
    "namadia_df.to_excel(path_to_save + 'namadia.xlsx')\n",
    "christelle_df.to_excel(path_to_save + 'christelle.xlsx')\n",
    "coumba_df.to_excel(path_to_save + 'coumba.xlsx')\n",
    "loic_df.to_excel(path_to_save + 'loic.xlsx')\n",
    "clemence_df.to_excel(path_to_save + 'clemence.xlsx')\n",
    "phil_df.to_excel(path_to_save + 'phil.xlsx')\n",
    "alix_df.to_excel(path_to_save + 'alix.xlsx')\n",
    "denis_df.to_excel(path_to_save + 'denis.xlsx')"
   ]
  },
  {
   "cell_type": "markdown",
   "id": "1b61c158-ef69-4c76-9fc3-9f9217ed1347",
   "metadata": {},
   "source": [
    "### Popularité en fonction des mentions et des réactions"
   ]
  },
  {
   "cell_type": "code",
   "execution_count": 133,
   "id": "005637b8-49c5-4d4d-bf8c-d4f7b87928a4",
   "metadata": {},
   "outputs": [],
   "source": [
    "def clean_data(df):\n",
    "    \n",
    "    to_return = df.drop_duplicates()\n",
    "    return to_return\n",
    "\n",
    "def simple_fame(df, nom_candidat):    \n",
    "    \n",
    "    data = {\n",
    "        'nb_tweets':df.shape[0],\n",
    "        'nb_likes':df.likeCount.sum(),\n",
    "        'nb_retweets':df.retweetCount.sum(),\n",
    "        'nb_not_reply':df.isReply.sum(),\n",
    "#         'nb_image':df.urlImg.count()\n",
    "    }\n",
    "    \n",
    "    return pd.DataFrame(data, index=nom_candidat)\n",
    "\n",
    "def gen_simple_fame(nom_candidats=nom_candidats, path = './data_jugement/em1/'):\n",
    "    to_return = pd.DataFrame()    \n",
    "    \n",
    "    for nom in nom_candidats:\n",
    "        df = pd.read_excel(path + nom.lower() + '.xlsx')\n",
    "        to_concat = simple_fame(clean_data(df), [nom])\n",
    "        \n",
    "        to_return = pd.concat([to_return, to_concat])\n",
    "    return to_return"
   ]
  },
  {
   "cell_type": "code",
   "execution_count": 134,
   "id": "98ffe23f-21dd-4609-a0dc-ac0547d0949c",
   "metadata": {},
   "outputs": [],
   "source": [
    "results = gen_simple_fame()"
   ]
  },
  {
   "cell_type": "code",
   "execution_count": 135,
   "id": "97c465eb-3e0c-4da8-ab72-1c36a8d5c46d",
   "metadata": {},
   "outputs": [
    {
     "data": {
      "text/html": [
       "<div>\n",
       "<style scoped>\n",
       "    .dataframe tbody tr th:only-of-type {\n",
       "        vertical-align: middle;\n",
       "    }\n",
       "\n",
       "    .dataframe tbody tr th {\n",
       "        vertical-align: top;\n",
       "    }\n",
       "\n",
       "    .dataframe thead th {\n",
       "        text-align: right;\n",
       "    }\n",
       "</style>\n",
       "<table border=\"1\" class=\"dataframe\">\n",
       "  <thead>\n",
       "    <tr style=\"text-align: right;\">\n",
       "      <th></th>\n",
       "      <th>nb_tweets</th>\n",
       "      <th>nb_likes</th>\n",
       "      <th>nb_retweets</th>\n",
       "      <th>nb_not_reply</th>\n",
       "    </tr>\n",
       "  </thead>\n",
       "  <tbody>\n",
       "    <tr>\n",
       "      <th>Sam</th>\n",
       "      <td>11059</td>\n",
       "      <td>335277</td>\n",
       "      <td>43617</td>\n",
       "      <td>223</td>\n",
       "    </tr>\n",
       "    <tr>\n",
       "      <th>Freddy</th>\n",
       "      <td>6178</td>\n",
       "      <td>157819</td>\n",
       "      <td>20865</td>\n",
       "      <td>177</td>\n",
       "    </tr>\n",
       "    <tr>\n",
       "      <th>Karima</th>\n",
       "      <td>5984</td>\n",
       "      <td>130254</td>\n",
       "      <td>15342</td>\n",
       "      <td>219</td>\n",
       "    </tr>\n",
       "  </tbody>\n",
       "</table>\n",
       "</div>"
      ],
      "text/plain": [
       "        nb_tweets  nb_likes  nb_retweets  nb_not_reply\n",
       "Sam         11059    335277        43617           223\n",
       "Freddy       6178    157819        20865           177\n",
       "Karima       5984    130254        15342           219"
      ]
     },
     "execution_count": 135,
     "metadata": {},
     "output_type": "execute_result"
    }
   ],
   "source": [
    "results.sort_values(by='nb_tweets', ascending=False).head(3)"
   ]
  },
  {
   "cell_type": "code",
   "execution_count": 136,
   "id": "7e30ac99-2ccd-4295-b06c-fd222547da0c",
   "metadata": {},
   "outputs": [
    {
     "data": {
      "text/html": [
       "<div>\n",
       "<style scoped>\n",
       "    .dataframe tbody tr th:only-of-type {\n",
       "        vertical-align: middle;\n",
       "    }\n",
       "\n",
       "    .dataframe tbody tr th {\n",
       "        vertical-align: top;\n",
       "    }\n",
       "\n",
       "    .dataframe thead th {\n",
       "        text-align: right;\n",
       "    }\n",
       "</style>\n",
       "<table border=\"1\" class=\"dataframe\">\n",
       "  <thead>\n",
       "    <tr style=\"text-align: right;\">\n",
       "      <th></th>\n",
       "      <th>nb_tweets</th>\n",
       "      <th>nb_likes</th>\n",
       "      <th>nb_retweets</th>\n",
       "      <th>nb_not_reply</th>\n",
       "    </tr>\n",
       "  </thead>\n",
       "  <tbody>\n",
       "    <tr>\n",
       "      <th>Sam</th>\n",
       "      <td>11059</td>\n",
       "      <td>335277</td>\n",
       "      <td>43617</td>\n",
       "      <td>223</td>\n",
       "    </tr>\n",
       "    <tr>\n",
       "      <th>Teheuira</th>\n",
       "      <td>4619</td>\n",
       "      <td>187231</td>\n",
       "      <td>28428</td>\n",
       "      <td>136</td>\n",
       "    </tr>\n",
       "    <tr>\n",
       "      <th>Freddy</th>\n",
       "      <td>6178</td>\n",
       "      <td>157819</td>\n",
       "      <td>20865</td>\n",
       "      <td>177</td>\n",
       "    </tr>\n",
       "  </tbody>\n",
       "</table>\n",
       "</div>"
      ],
      "text/plain": [
       "          nb_tweets  nb_likes  nb_retweets  nb_not_reply\n",
       "Sam           11059    335277        43617           223\n",
       "Teheuira       4619    187231        28428           136\n",
       "Freddy         6178    157819        20865           177"
      ]
     },
     "execution_count": 136,
     "metadata": {},
     "output_type": "execute_result"
    }
   ],
   "source": [
    "results.sort_values(by='nb_likes', ascending=False).head(3)"
   ]
  },
  {
   "cell_type": "code",
   "execution_count": 137,
   "id": "d1f80ca9-e6e7-4bf7-8496-8fae2f42ae93",
   "metadata": {},
   "outputs": [
    {
     "data": {
      "text/html": [
       "<div>\n",
       "<style scoped>\n",
       "    .dataframe tbody tr th:only-of-type {\n",
       "        vertical-align: middle;\n",
       "    }\n",
       "\n",
       "    .dataframe tbody tr th {\n",
       "        vertical-align: top;\n",
       "    }\n",
       "\n",
       "    .dataframe thead th {\n",
       "        text-align: right;\n",
       "    }\n",
       "</style>\n",
       "<table border=\"1\" class=\"dataframe\">\n",
       "  <thead>\n",
       "    <tr style=\"text-align: right;\">\n",
       "      <th></th>\n",
       "      <th>nb_tweets</th>\n",
       "      <th>nb_likes</th>\n",
       "      <th>nb_retweets</th>\n",
       "      <th>nb_not_reply</th>\n",
       "    </tr>\n",
       "  </thead>\n",
       "  <tbody>\n",
       "    <tr>\n",
       "      <th>Claude</th>\n",
       "      <td>5344</td>\n",
       "      <td>112801</td>\n",
       "      <td>13643</td>\n",
       "      <td>331</td>\n",
       "    </tr>\n",
       "    <tr>\n",
       "      <th>Clemence</th>\n",
       "      <td>3977</td>\n",
       "      <td>63494</td>\n",
       "      <td>7310</td>\n",
       "      <td>331</td>\n",
       "    </tr>\n",
       "    <tr>\n",
       "      <th>Denis</th>\n",
       "      <td>1908</td>\n",
       "      <td>53294</td>\n",
       "      <td>6712</td>\n",
       "      <td>320</td>\n",
       "    </tr>\n",
       "  </tbody>\n",
       "</table>\n",
       "</div>"
      ],
      "text/plain": [
       "          nb_tweets  nb_likes  nb_retweets  nb_not_reply\n",
       "Claude         5344    112801        13643           331\n",
       "Clemence       3977     63494         7310           331\n",
       "Denis          1908     53294         6712           320"
      ]
     },
     "execution_count": 137,
     "metadata": {},
     "output_type": "execute_result"
    }
   ],
   "source": [
    "results.sort_values(by='nb_not_reply', ascending=False).head(3)"
   ]
  },
  {
   "cell_type": "code",
   "execution_count": 157,
   "id": "d02488bf-1fde-436a-a82e-1fb9c964fead",
   "metadata": {},
   "outputs": [],
   "source": [
    "def gen_score_simple_fame(results):\n",
    "    to_return = {}\n",
    "    for nom in results.index.tolist():\n",
    "        to_return[nom] = 0\n",
    "    \n",
    "    cols = results.columns\n",
    "    for col in cols:\n",
    "        to_check = results[col].sort_values()\n",
    "        for ind, nom in enumerate(to_check.index): # Je regarde chaque candidat un à un\n",
    "            to_return[nom] += to_check.loc[nom]\n",
    "            \n",
    "    return pd.DataFrame(to_return.values(), index=to_return.keys()).rename(columns={0:'score'}).sort_values(by='score', ascending=False)"
   ]
  },
  {
   "cell_type": "code",
   "execution_count": 159,
   "id": "ec05ef73-4442-4cc1-8a70-f7f88f67e9ec",
   "metadata": {},
   "outputs": [
    {
     "data": {
      "text/html": [
       "<div>\n",
       "<style scoped>\n",
       "    .dataframe tbody tr th:only-of-type {\n",
       "        vertical-align: middle;\n",
       "    }\n",
       "\n",
       "    .dataframe tbody tr th {\n",
       "        vertical-align: top;\n",
       "    }\n",
       "\n",
       "    .dataframe thead th {\n",
       "        text-align: right;\n",
       "    }\n",
       "</style>\n",
       "<table border=\"1\" class=\"dataframe\">\n",
       "  <thead>\n",
       "    <tr style=\"text-align: right;\">\n",
       "      <th></th>\n",
       "      <th>score</th>\n",
       "    </tr>\n",
       "  </thead>\n",
       "  <tbody>\n",
       "    <tr>\n",
       "      <th>Sam</th>\n",
       "      <td>390176</td>\n",
       "    </tr>\n",
       "    <tr>\n",
       "      <th>Teheuira</th>\n",
       "      <td>220414</td>\n",
       "    </tr>\n",
       "    <tr>\n",
       "      <th>Freddy</th>\n",
       "      <td>185039</td>\n",
       "    </tr>\n",
       "    <tr>\n",
       "      <th>Karima</th>\n",
       "      <td>151799</td>\n",
       "    </tr>\n",
       "    <tr>\n",
       "      <th>Claude</th>\n",
       "      <td>132119</td>\n",
       "    </tr>\n",
       "    <tr>\n",
       "      <th>Clementine</th>\n",
       "      <td>127327</td>\n",
       "    </tr>\n",
       "    <tr>\n",
       "      <th>Ugo</th>\n",
       "      <td>122965</td>\n",
       "    </tr>\n",
       "    <tr>\n",
       "      <th>Phil</th>\n",
       "      <td>106327</td>\n",
       "    </tr>\n",
       "    <tr>\n",
       "      <th>Coumba</th>\n",
       "      <td>88154</td>\n",
       "    </tr>\n",
       "    <tr>\n",
       "      <th>Clemence</th>\n",
       "      <td>75112</td>\n",
       "    </tr>\n",
       "    <tr>\n",
       "      <th>Denis</th>\n",
       "      <td>62234</td>\n",
       "    </tr>\n",
       "    <tr>\n",
       "      <th>Alix</th>\n",
       "      <td>45709</td>\n",
       "    </tr>\n",
       "    <tr>\n",
       "      <th>Laurent</th>\n",
       "      <td>33461</td>\n",
       "    </tr>\n",
       "    <tr>\n",
       "      <th>Alexandra</th>\n",
       "      <td>33358</td>\n",
       "    </tr>\n",
       "    <tr>\n",
       "      <th>Namadia</th>\n",
       "      <td>31213</td>\n",
       "    </tr>\n",
       "    <tr>\n",
       "      <th>Loic</th>\n",
       "      <td>22363</td>\n",
       "    </tr>\n",
       "    <tr>\n",
       "      <th>Cindy</th>\n",
       "      <td>17762</td>\n",
       "    </tr>\n",
       "    <tr>\n",
       "      <th>Candice</th>\n",
       "      <td>14023</td>\n",
       "    </tr>\n",
       "    <tr>\n",
       "      <th>Patrick</th>\n",
       "      <td>4358</td>\n",
       "    </tr>\n",
       "    <tr>\n",
       "      <th>Christelle</th>\n",
       "      <td>2100</td>\n",
       "    </tr>\n",
       "    <tr>\n",
       "      <th>Jade</th>\n",
       "      <td>1882</td>\n",
       "    </tr>\n",
       "    <tr>\n",
       "      <th>Maxime</th>\n",
       "      <td>997</td>\n",
       "    </tr>\n",
       "  </tbody>\n",
       "</table>\n",
       "</div>"
      ],
      "text/plain": [
       "             score\n",
       "Sam         390176\n",
       "Teheuira    220414\n",
       "Freddy      185039\n",
       "Karima      151799\n",
       "Claude      132119\n",
       "Clementine  127327\n",
       "Ugo         122965\n",
       "Phil        106327\n",
       "Coumba       88154\n",
       "Clemence     75112\n",
       "Denis        62234\n",
       "Alix         45709\n",
       "Laurent      33461\n",
       "Alexandra    33358\n",
       "Namadia      31213\n",
       "Loic         22363\n",
       "Cindy        17762\n",
       "Candice      14023\n",
       "Patrick       4358\n",
       "Christelle    2100\n",
       "Jade          1882\n",
       "Maxime         997"
      ]
     },
     "execution_count": 159,
     "metadata": {},
     "output_type": "execute_result"
    }
   ],
   "source": [
    "score_simple_fame = gen_score_simple_fame(results)\n",
    "score_simple_fame"
   ]
  },
  {
   "cell_type": "code",
   "execution_count": 153,
   "id": "4569de68-ac1e-4df2-8ec1-3f541e8bb4b2",
   "metadata": {},
   "outputs": [
    {
     "data": {
      "text/html": [
       "<div>\n",
       "<style scoped>\n",
       "    .dataframe tbody tr th:only-of-type {\n",
       "        vertical-align: middle;\n",
       "    }\n",
       "\n",
       "    .dataframe tbody tr th {\n",
       "        vertical-align: top;\n",
       "    }\n",
       "\n",
       "    .dataframe thead th {\n",
       "        text-align: right;\n",
       "    }\n",
       "</style>\n",
       "<table border=\"1\" class=\"dataframe\">\n",
       "  <thead>\n",
       "    <tr style=\"text-align: right;\">\n",
       "      <th></th>\n",
       "      <th>score</th>\n",
       "      <th>score</th>\n",
       "    </tr>\n",
       "  </thead>\n",
       "  <tbody>\n",
       "    <tr>\n",
       "      <th>Sam</th>\n",
       "      <td>81</td>\n",
       "      <td>81</td>\n",
       "    </tr>\n",
       "    <tr>\n",
       "      <th>Freddy</th>\n",
       "      <td>74</td>\n",
       "      <td>74</td>\n",
       "    </tr>\n",
       "    <tr>\n",
       "      <th>Karima</th>\n",
       "      <td>72</td>\n",
       "      <td>72</td>\n",
       "    </tr>\n",
       "    <tr>\n",
       "      <th>Teheuira</th>\n",
       "      <td>71</td>\n",
       "      <td>71</td>\n",
       "    </tr>\n",
       "    <tr>\n",
       "      <th>Claude</th>\n",
       "      <td>70</td>\n",
       "      <td>70</td>\n",
       "    </tr>\n",
       "    <tr>\n",
       "      <th>Clementine</th>\n",
       "      <td>63</td>\n",
       "      <td>63</td>\n",
       "    </tr>\n",
       "    <tr>\n",
       "      <th>Clemence</th>\n",
       "      <td>59</td>\n",
       "      <td>59</td>\n",
       "    </tr>\n",
       "    <tr>\n",
       "      <th>Coumba</th>\n",
       "      <td>55</td>\n",
       "      <td>55</td>\n",
       "    </tr>\n",
       "    <tr>\n",
       "      <th>Ugo</th>\n",
       "      <td>54</td>\n",
       "      <td>54</td>\n",
       "    </tr>\n",
       "    <tr>\n",
       "      <th>Denis</th>\n",
       "      <td>52</td>\n",
       "      <td>52</td>\n",
       "    </tr>\n",
       "    <tr>\n",
       "      <th>Phil</th>\n",
       "      <td>49</td>\n",
       "      <td>49</td>\n",
       "    </tr>\n",
       "    <tr>\n",
       "      <th>Alix</th>\n",
       "      <td>40</td>\n",
       "      <td>40</td>\n",
       "    </tr>\n",
       "    <tr>\n",
       "      <th>Laurent</th>\n",
       "      <td>38</td>\n",
       "      <td>38</td>\n",
       "    </tr>\n",
       "    <tr>\n",
       "      <th>Alexandra</th>\n",
       "      <td>31</td>\n",
       "      <td>31</td>\n",
       "    </tr>\n",
       "    <tr>\n",
       "      <th>Loic</th>\n",
       "      <td>24</td>\n",
       "      <td>24</td>\n",
       "    </tr>\n",
       "    <tr>\n",
       "      <th>Namadia</th>\n",
       "      <td>22</td>\n",
       "      <td>22</td>\n",
       "    </tr>\n",
       "    <tr>\n",
       "      <th>Cindy</th>\n",
       "      <td>22</td>\n",
       "      <td>22</td>\n",
       "    </tr>\n",
       "    <tr>\n",
       "      <th>Candice</th>\n",
       "      <td>14</td>\n",
       "      <td>14</td>\n",
       "    </tr>\n",
       "    <tr>\n",
       "      <th>Patrick</th>\n",
       "      <td>12</td>\n",
       "      <td>12</td>\n",
       "    </tr>\n",
       "    <tr>\n",
       "      <th>Jade</th>\n",
       "      <td>11</td>\n",
       "      <td>11</td>\n",
       "    </tr>\n",
       "    <tr>\n",
       "      <th>Maxime</th>\n",
       "      <td>6</td>\n",
       "      <td>6</td>\n",
       "    </tr>\n",
       "    <tr>\n",
       "      <th>Christelle</th>\n",
       "      <td>4</td>\n",
       "      <td>4</td>\n",
       "    </tr>\n",
       "  </tbody>\n",
       "</table>\n",
       "</div>"
      ],
      "text/plain": [
       "            score  score\n",
       "Sam            81     81\n",
       "Freddy         74     74\n",
       "Karima         72     72\n",
       "Teheuira       71     71\n",
       "Claude         70     70\n",
       "Clementine     63     63\n",
       "Clemence       59     59\n",
       "Coumba         55     55\n",
       "Ugo            54     54\n",
       "Denis          52     52\n",
       "Phil           49     49\n",
       "Alix           40     40\n",
       "Laurent        38     38\n",
       "Alexandra      31     31\n",
       "Loic           24     24\n",
       "Namadia        22     22\n",
       "Cindy          22     22\n",
       "Candice        14     14\n",
       "Patrick        12     12\n",
       "Jade           11     11\n",
       "Maxime          6      6\n",
       "Christelle      4      4"
      ]
     },
     "execution_count": 153,
     "metadata": {},
     "output_type": "execute_result"
    }
   ],
   "source": [
    "tmp = pd.DataFrame()\n",
    "\n",
    "pd.concat([score_simple_fame, score_simple_fame], axis=1)"
   ]
  },
  {
   "cell_type": "code",
   "execution_count": 140,
   "id": "1dfbe8aa-359c-4598-b607-80ae89d2ee0c",
   "metadata": {},
   "outputs": [
    {
     "data": {
      "image/png": "[encoded data removed]",
      "text/plain": [
       "<Figure size 1224x936 with 1 Axes>"
      ]
     },
     "metadata": {},
     "output_type": "display_data"
    }
   ],
   "source": [
    "score_simple_fame.plot.bar()\n",
    "plt.show()"
   ]
  },
  {
   "cell_type": "markdown",
   "id": "1fcefe28-8534-45fb-9080-c0e73cd07878",
   "metadata": {},
   "source": [
    "### Le tweet est-il un jugement sur la personne ?"
   ]
  },
  {
   "cell_type": "markdown",
   "id": "036221df-e3a3-46a3-9766-2819564375e6",
   "metadata": {},
   "source": [
    "Classification binaire permettant de savoir si le tweet est un jugement sur une personne ou non."
   ]
  },
  {
   "cell_type": "markdown",
   "id": "db74d1ef-6953-4568-9e88-ab0d4467057f",
   "metadata": {},
   "source": [
    "Difficulté: \n",
    "- Parfois le jugement est ambigu: On peut rire d'un comportement d'un candidat, est ce que cela est positif ou non ?\n"
   ]
  },
  {
   "cell_type": "code",
   "execution_count": 43,
   "id": "b2df66d8-2251-42f0-a630-16f6a1225c1b",
   "metadata": {},
   "outputs": [
    {
     "data": {
      "text/plain": [
       "(41260, 14)"
      ]
     },
     "execution_count": 43,
     "metadata": {},
     "output_type": "execute_result"
    }
   ],
   "source": [
    "df_with_name = raw[raw.content.str.contains('|'.join(nom_candidats), case=False)]\n",
    "df_with_name.shape"
   ]
  },
  {
   "cell_type": "code",
   "execution_count": 47,
   "id": "ee289113-a25d-4fe4-ab19-a1ea33eb5cd5",
   "metadata": {},
   "outputs": [
    {
     "name": "stdout",
     "output_type": "stream",
     "text": [
      "41260/98182 tweets mentionnent/parlent d'un candidat.\n"
     ]
    }
   ],
   "source": [
    "print(f'{df_with_name.shape[0]}/{raw.shape[0]} tweets mentionnent/parlent d\\'un candidat.')"
   ]
  },
  {
   "cell_type": "code",
   "execution_count": 49,
   "id": "6c6160b0-c175-4d76-a577-18d7ff2b9766",
   "metadata": {},
   "outputs": [],
   "source": [
    "sample = df_with_name.iloc[0:1000].content\n",
    "sample.to_excel('./data_jugement/test.xlsx')\n",
    "\n",
    "sample = df_with_name.iloc[1000:3000].content\n",
    "sample.to_excel('./data_jugement/train.xlsx')"
   ]
  },
  {
   "cell_type": "markdown",
   "id": "744680c9-bbef-4249-9baa-db0cecac2293",
   "metadata": {},
   "source": [
    "### tf-allociné"
   ]
  },
  {
   "cell_type": "code",
   "execution_count": 16,
   "id": "fac47a07-7fe9-4867-9bdd-6edd8ce6df1e",
   "metadata": {},
   "outputs": [
    {
     "data": {
      "application/vnd.jupyter.widget-view+json": {
       "model_id": "0550c1a445db416e8ee491214b29e67b",
       "version_major": 2,
       "version_minor": 0
      },
      "text/plain": [
       "Downloading:   0%|          | 0.00/2.00 [00:00<?, ?B/s]"
      ]
     },
     "metadata": {},
     "output_type": "display_data"
    },
    {
     "data": {
      "application/vnd.jupyter.widget-view+json": {
       "model_id": "2a5351b2a1284c88a96b97ab06c6f3b7",
       "version_major": 2,
       "version_minor": 0
      },
      "text/plain": [
       "Downloading:   0%|          | 0.00/666 [00:00<?, ?B/s]"
      ]
     },
     "metadata": {},
     "output_type": "display_data"
    },
    {
     "data": {
      "application/vnd.jupyter.widget-view+json": {
       "model_id": "8e8a8134edd04cfbb601aca5ab9359dc",
       "version_major": 2,
       "version_minor": 0
      },
      "text/plain": [
       "Downloading:   0%|          | 0.00/792k [00:00<?, ?B/s]"
      ]
     },
     "metadata": {},
     "output_type": "display_data"
    },
    {
     "data": {
      "application/vnd.jupyter.widget-view+json": {
       "model_id": "46607348b04d4e72bb7449d6aec854ee",
       "version_major": 2,
       "version_minor": 0
      },
      "text/plain": [
       "Downloading:   0%|          | 0.00/210 [00:00<?, ?B/s]"
      ]
     },
     "metadata": {},
     "output_type": "display_data"
    },
    {
     "data": {
      "application/vnd.jupyter.widget-view+json": {
       "model_id": "b3009a7214f74f24979e7a4afabfc98b",
       "version_major": 2,
       "version_minor": 0
      },
      "text/plain": [
       "Downloading:   0%|          | 0.00/425M [00:00<?, ?B/s]"
      ]
     },
     "metadata": {},
     "output_type": "display_data"
    },
    {
     "name": "stderr",
     "output_type": "stream",
     "text": [
      "All model checkpoint layers were used when initializing TFCamembertForSequenceClassification.\n",
      "\n",
      "All the layers of TFCamembertForSequenceClassification were initialized from the model checkpoint at tblard/tf-allocine.\n",
      "If your task is similar to the task the model of the checkpoint was trained on, you can already use TFCamembertForSequenceClassification for predictions without further training.\n"
     ]
    }
   ],
   "source": [
    "from transformers import AutoTokenizer, TFAutoModelForSequenceClassification\n",
    "from transformers import pipeline\n",
    "\n",
    "tokenizer = AutoTokenizer.from_pretrained(\"tblard/tf-allocine\")\n",
    "model = TFAutoModelForSequenceClassification.from_pretrained(\"tblard/tf-allocine\")\n",
    "\n",
    "nlp_sentiment = pipeline('sentiment-analysis', model=model, tokenizer=tokenizer)"
   ]
  },
  {
   "cell_type": "code",
   "execution_count": 29,
   "id": "fb2e9f40-93f4-4f43-98b6-3fb6f1e37b49",
   "metadata": {},
   "outputs": [
    {
     "data": {
      "text/plain": [
       "['en train de regarder premier episode koh lanta en replay j aime pas specialement freddy but damn he is packing devant et derriere',\n",
       " \"freddy j'attend son retour depuis des annees et il se tape l'epaule des la premiere epreuve jsuis degoûtee koh lanta\",\n",
       " 'koh lanta  degoûte pour freddy !',\n",
       " 'non mais #freddy faut pas deconner !! trop degoûtee !! koh lanta ',\n",
       " 'ca fait + de 10 ans on reve de revoir freddy et ça il est à deux doigts de partir bah mdrrr il a interet de vite guerir koh lanta']"
      ]
     },
     "execution_count": 29,
     "metadata": {},
     "output_type": "execute_result"
    }
   ],
   "source": [
    "test = freddy_df.content.sample(5, random_state=0).tolist()\n",
    "test"
   ]
  },
  {
   "cell_type": "code",
   "execution_count": 30,
   "id": "f99aef24-3378-43fb-aab2-053f0477fc94",
   "metadata": {},
   "outputs": [
    {
     "data": {
      "text/plain": [
       "[{'label': 'NEGATIVE', 'score': 0.6779306530952454},\n",
       " {'label': 'NEGATIVE', 'score': 0.9692743420600891},\n",
       " {'label': 'NEGATIVE', 'score': 0.9559457898139954},\n",
       " {'label': 'NEGATIVE', 'score': 0.9544665813446045},\n",
       " {'label': 'NEGATIVE', 'score': 0.52403724193573}]"
      ]
     },
     "execution_count": 30,
     "metadata": {},
     "output_type": "execute_result"
    }
   ],
   "source": [
    "nlp_sentiment(test)"
   ]
  },
  {
   "cell_type": "markdown",
   "id": "579051c1-09b7-47d5-9dc1-f870555e496a",
   "metadata": {},
   "source": [
    "#### Evaluation"
   ]
  },
  {
   "cell_type": "code",
   "execution_count": null,
   "id": "a81ac8bb-cd78-46f3-9a47-c9fc7c4f6036",
   "metadata": {},
   "outputs": [],
   "source": []
  }
 ],
 "metadata": {
  "kernelspec": {
   "display_name": "koh-koh-venv",
   "language": "python",
   "name": "koh-koh-venv"
  },
  "language_info": {
   "codemirror_mode": {
    "name": "ipython",
    "version": 3
   },
   "file_extension": ".py",
   "mimetype": "text/x-python",
   "name": "python",
   "nbconvert_exporter": "python",
   "pygments_lexer": "ipython3",
   "version": "3.9.2"
  }
 },
 "nbformat": 4,
 "nbformat_minor": 5
}
